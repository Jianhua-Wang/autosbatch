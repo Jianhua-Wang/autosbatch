{
 "cells": [
  {
   "cell_type": "code",
   "execution_count": 1,
   "metadata": {},
   "outputs": [],
   "source": [
    "from autosbatch import SlurmPool"
   ]
  },
  {
   "cell_type": "code",
   "execution_count": 2,
   "metadata": {},
   "outputs": [],
   "source": [
    "# submit single job\n",
    "SlurmPool.single_submit('cpuPartition','cpu01',1,'sleep 10','test','001')"
   ]
  },
  {
   "cell_type": "code",
   "execution_count": 3,
   "metadata": {},
   "outputs": [],
   "source": [
    "# submit multiple job, single parameter\n",
    "\n",
    "def sleep(time):\n",
    "    cmd = f'sleep {time}'\n",
    "    return cmd\n",
    "\n",
    "params = range(10)\n",
    "\n",
    "p = SlurmPool(10)\n",
    "p.map(sleep, params)"
   ]
  },
  {
   "cell_type": "code",
   "execution_count": 4,
   "metadata": {},
   "outputs": [],
   "source": [
    "# submit multiple job, multiple parameters\n",
    "\n",
    "params = []\n",
    "for text in range(5):\n",
    "    for time in range(6):\n",
    "        params.append([text, time])\n",
    "\n",
    "def echo_sleep(text, time):\n",
    "    cmd = f'echo {text} && sleep {time}'\n",
    "    return cmd\n",
    "\n",
    "p = SlurmPool(10)\n",
    "p.starmap(echo_sleep, params)"
   ]
  },
  {
   "cell_type": "code",
   "execution_count": 7,
   "metadata": {},
   "outputs": [],
   "source": [
    "# remove former scripts and logs\n",
    "SlurmPool.clean()"
   ]
  },
  {
   "cell_type": "code",
   "execution_count": 5,
   "metadata": {},
   "outputs": [],
   "source": [
    "# use cli\n",
    "\n",
    "with open('./cmd.sh', 'w') as f:\n",
    "    for time in range(10):\n",
    "        f.write(f'sleep {time}\\n')"
   ]
  },
  {
   "cell_type": "code",
   "execution_count": 6,
   "metadata": {},
   "outputs": [
    {
     "name": "stdout",
     "output_type": "stream",
     "text": [
      "N jobs: 10\n",
      "Pool size: 10\n",
      "N cpus per job: 2\n",
      "Max jobs per node: 76\n",
      "Queue: test_000, Job ID: 238619, Node: cpu01, N_jobs: 1\n",
      "Queue: test_001, Job ID: 238620, Node: cpu01, N_jobs: 1\n",
      "Queue: test_002, Job ID: 238621, Node: cpu01, N_jobs: 1\n",
      "Queue: test_003, Job ID: 238622, Node: cpu01, N_jobs: 1\n",
      "Queue: test_004, Job ID: 238623, Node: cpu01, N_jobs: 1\n",
      "Queue: test_005, Job ID: 238624, Node: cpu01, N_jobs: 1\n",
      "Queue: test_006, Job ID: 238625, Node: cpu01, N_jobs: 1\n",
      "Queue: test_007, Job ID: 238626, Node: cpu01, N_jobs: 1\n",
      "Queue: test_008, Job ID: 238627, Node: cpu01, N_jobs: 1\n",
      "Queue: test_009, Job ID: 238628, Node: cpu01, N_jobs: 1\n"
     ]
    }
   ],
   "source": [
    "!autosbatch cmd.sh -j test"
   ]
  },
  {
   "cell_type": "code",
   "execution_count": null,
   "metadata": {},
   "outputs": [],
   "source": []
  }
 ],
 "metadata": {
  "kernelspec": {
   "display_name": "Python 3.9.7 ('base')",
   "language": "python",
   "name": "python3"
  },
  "language_info": {
   "codemirror_mode": {
    "name": "ipython",
    "version": 3
   },
   "file_extension": ".py",
   "mimetype": "text/x-python",
   "name": "python",
   "nbconvert_exporter": "python",
   "pygments_lexer": "ipython3",
   "version": "3.9.7"
  },
  "orig_nbformat": 4,
  "vscode": {
   "interpreter": {
    "hash": "4b693a4b600e223a27a7639242e627751f9536781991a0bb11a87b5184c3c1fe"
   }
  }
 },
 "nbformat": 4,
 "nbformat_minor": 2
}
