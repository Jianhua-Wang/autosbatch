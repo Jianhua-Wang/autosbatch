{
 "cells": [
  {
   "cell_type": "code",
   "execution_count": 1,
   "metadata": {},
   "outputs": [],
   "source": [
    "from autosbatch import SlurmPool"
   ]
  },
  {
   "cell_type": "code",
   "execution_count": 2,
   "metadata": {},
   "outputs": [
    {
     "name": "stdout",
     "output_type": "stream",
     "text": [
      "Submitted batch job 238141\n"
     ]
    }
   ],
   "source": [
    "# submit single job\n",
    "SlurmPool.single_submit('cpuPartition','cpu01',1,'sleep 10','test','001')"
   ]
  },
  {
   "cell_type": "code",
   "execution_count": 2,
   "metadata": {},
   "outputs": [
    {
     "name": "stdout",
     "output_type": "stream",
     "text": [
      "Submitted batch job 238142\n",
      "Submitted batch job 238143\n",
      "Submitted batch job 238144\n",
      "Submitted batch job 238145\n",
      "Submitted batch job 238146\n",
      "Submitted batch job 238147\n",
      "Submitted batch job 238148\n",
      "Submitted batch job 238149\n",
      "Submitted batch job 238150\n",
      "Submitted batch job 238151\n"
     ]
    }
   ],
   "source": [
    "# submit multiple job, single parameter\n",
    "\n",
    "def sleep(time):\n",
    "    cmd = f'sleep {time}'\n",
    "    return cmd\n",
    "\n",
    "params = range(10)\n",
    "\n",
    "p = SlurmPool(10)\n",
    "p.map(sleep, params)"
   ]
  },
  {
   "cell_type": "code",
   "execution_count": 4,
   "metadata": {},
   "outputs": [
    {
     "name": "stdout",
     "output_type": "stream",
     "text": [
      "Submitted batch job 238152\n",
      "Submitted batch job 238153\n",
      "Submitted batch job 238154\n",
      "Submitted batch job 238155\n",
      "Submitted batch job 238156\n",
      "Submitted batch job 238157\n",
      "Submitted batch job 238158\n",
      "Submitted batch job 238159\n",
      "Submitted batch job 238160\n",
      "Submitted batch job 238161\n"
     ]
    }
   ],
   "source": [
    "# submit multiple job, multiple parameters\n",
    "\n",
    "params = []\n",
    "for text in range(5):\n",
    "    for time in range(6):\n",
    "        params.append([text, time])\n",
    "\n",
    "def echo_sleep(text, time):\n",
    "    cmd = f'echo {text} && sleep {time}'\n",
    "    return cmd\n",
    "\n",
    "p = SlurmPool(10)\n",
    "p.starmap(echo_sleep, params)"
   ]
  },
  {
   "cell_type": "code",
   "execution_count": 23,
   "metadata": {},
   "outputs": [],
   "source": [
    "# remove former scripts and logs\n",
    "SlurmPool.clean()"
   ]
  },
  {
   "cell_type": "code",
   "execution_count": 6,
   "metadata": {},
   "outputs": [],
   "source": [
    "# use cli\n",
    "\n",
    "with open('./cmd.sh', 'w') as f:\n",
    "    for time in range(10):\n",
    "        f.write(f'sleep {time}\\n')"
   ]
  },
  {
   "cell_type": "code",
   "execution_count": 22,
   "metadata": {},
   "outputs": [
    {
     "name": "stdout",
     "output_type": "stream",
     "text": [
      "Submitted batch job 238197\n",
      "Submitted batch job 238198\n",
      "Submitted batch job 238199\n",
      "Submitted batch job 238200\n",
      "Submitted batch job 238201\n",
      "Submitted batch job 238202\n",
      "Submitted batch job 238203\n",
      "Submitted batch job 238204\n",
      "Submitted batch job 238205\n",
      "Submitted batch job 238206\n"
     ]
    }
   ],
   "source": [
    "!autosbatch cmd.sh -j test"
   ]
  },
  {
   "cell_type": "code",
   "execution_count": null,
   "metadata": {},
   "outputs": [],
   "source": []
  }
 ],
 "metadata": {
  "kernelspec": {
   "display_name": "Python 3.9.7 ('base')",
   "language": "python",
   "name": "python3"
  },
  "language_info": {
   "codemirror_mode": {
    "name": "ipython",
    "version": 3
   },
   "file_extension": ".py",
   "mimetype": "text/x-python",
   "name": "python",
   "nbconvert_exporter": "python",
   "pygments_lexer": "ipython3",
   "version": "3.9.7"
  },
  "orig_nbformat": 4,
  "vscode": {
   "interpreter": {
    "hash": "4b693a4b600e223a27a7639242e627751f9536781991a0bb11a87b5184c3c1fe"
   }
  }
 },
 "nbformat": 4,
 "nbformat_minor": 2
}
