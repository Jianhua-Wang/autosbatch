{
 "cells": [
  {
   "cell_type": "code",
   "execution_count": 15,
   "metadata": {},
   "outputs": [],
   "source": [
    "from autosbatch import *"
   ]
  },
  {
   "cell_type": "code",
   "execution_count": 3,
   "metadata": {},
   "outputs": [],
   "source": [
    "def run_cmd(p1, p2):\n",
    "    cmd = f'sleep {p1}'\n",
    "    return cmd"
   ]
  },
  {
   "cell_type": "code",
   "execution_count": 4,
   "metadata": {},
   "outputs": [],
   "source": [
    "params = []\n",
    "for chrom in range(1,5):\n",
    "    for project in range(6):\n",
    "        params.append([chrom, project])"
   ]
  },
  {
   "cell_type": "code",
   "execution_count": 7,
   "metadata": {},
   "outputs": [
    {
     "name": "stdout",
     "output_type": "stream",
     "text": [
      "Submitted batch job 232864\n"
     ]
    }
   ],
   "source": [
    "# submit single job\n",
    "SlurmPool.autosbatch('cpuPartition','cpu01',1,'sleep 10','test','001')"
   ]
  },
  {
   "cell_type": "code",
   "execution_count": 6,
   "metadata": {},
   "outputs": [
    {
     "name": "stdout",
     "output_type": "stream",
     "text": [
      "Submitted batch job 232854\n",
      "Submitted batch job 232855\n",
      "Submitted batch job 232856\n",
      "Submitted batch job 232857\n",
      "Submitted batch job 232858\n",
      "Submitted batch job 232859\n",
      "Submitted batch job 232860\n",
      "Submitted batch job 232861\n",
      "Submitted batch job 232862\n",
      "Submitted batch job 232863\n"
     ]
    }
   ],
   "source": [
    "# submit multiple job\n",
    "p = SlurmPool(10)\n",
    "p.starmap(run_cmd, iter)"
   ]
  },
  {
   "cell_type": "code",
   "execution_count": 5,
   "metadata": {},
   "outputs": [],
   "source": [
    "# remove former scripts and logs\n",
    "SlurmPool.clean()"
   ]
  }
 ],
 "metadata": {
  "kernelspec": {
   "display_name": "Python 3.9.7 ('base')",
   "language": "python",
   "name": "python3"
  },
  "language_info": {
   "codemirror_mode": {
    "name": "ipython",
    "version": 3
   },
   "file_extension": ".py",
   "mimetype": "text/x-python",
   "name": "python",
   "nbconvert_exporter": "python",
   "pygments_lexer": "ipython3",
   "version": "3.9.7"
  },
  "orig_nbformat": 4,
  "vscode": {
   "interpreter": {
    "hash": "4b693a4b600e223a27a7639242e627751f9536781991a0bb11a87b5184c3c1fe"
   }
  }
 },
 "nbformat": 4,
 "nbformat_minor": 2
}
